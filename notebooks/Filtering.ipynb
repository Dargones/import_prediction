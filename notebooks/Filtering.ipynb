{
 "cells": [
  {
   "cell_type": "markdown",
   "metadata": {},
   "source": [
    "# This module contains code for filtering the data parsed with java parser"
   ]
  },
  {
   "cell_type": "code",
   "execution_count": 1,
   "metadata": {},
   "outputs": [],
   "source": [
    "import pandas as pd\n",
    "from glob import glob\n",
    "from tqdm.auto import tqdm\n",
    "import joblib\n",
    "tqdm.pandas()"
   ]
  },
  {
   "cell_type": "markdown",
   "metadata": {},
   "source": [
    "## Gatherig all data in one table, removing duplicate imports and java.lang imports"
   ]
  },
  {
   "cell_type": "code",
   "execution_count": 2,
   "metadata": {},
   "outputs": [],
   "source": [
    "# list of compilation units inside java.lang package that should be ignored when loadig the data\n",
    "java_lang = {\"Appendable\", \"AutoCloseable\", \"CharSequence\", \"Cloneable\", \"Comparable\", \"Iterable\", \"Readable\", \n",
    "             \"Runnable\", \"Boolean\", \"Byte\", \"Character\", \"Class\", \"ClassLoader\", \"ClassValue\", \"Compiler\", \"Double\", \n",
    "             \"Enum\", \"Float\", \"InheritableThreadLocal\", \"Integer\", \"Long\", \"Math\", \"Number\", \"Object\", \"Package\", \n",
    "             \"Process\", \"ProcessBuilder\", \"Runtime\", \"RuntimePermission\", \"SecurityManager\", \"Short\", \n",
    "             \"StackTraceElement\", \"StrictMath\", \"String\", \"StringBuffer\", \"StringBuilder\", \"System\", \"Thread\", \n",
    "             \"ThreadGroup\", \"ThreadLocal\", \"Throwable\", \"Void\", \"ArithmeticException\", \n",
    "             \"ArrayIndexOutOfBoundsException\", \"ArrayStoreException\", \"ClassCastException\", \"ClassNotFoundException\", \n",
    "             \"CloneNotSupportedException\", \"EnumConstantNotPresentException\", \"Exception\", \"IllegalAccessException\", \n",
    "             \"IllegalArgumentException\", \"IllegalMonitorStateException\", \"IllegalStateException\", \n",
    "             \"IllegalThreadStateException\", \"IndexOutOfBoundsException\", \"InstantiationException\", \n",
    "             \"InterruptedException\", \"NegativeArraySizeException\", \"NoSuchFieldException\", \"NoSuchMethodException\", \n",
    "             \"NullPointerException\", \"NumberFormatException\", \"ReflectiveOperationException\", \"RuntimeException\", \n",
    "             \"SecurityException\", \"StringIndexOutOfBoundsException\", \"TypeNotPresentException\", \n",
    "             \"UnsupportedOperationException\", \"AbstractMethodError\", \"AssertionError\", \"BootstrapMethodError\", \n",
    "             \"ClassCircularityError\", \"ClassFormatError\", \"Error\", \"ExceptionInInitializerError\", \"IllegalAccessError\",\n",
    "             \"IncompatibleClassChangeError\", \"InstantiationError\", \"InternalError\", \"LinkageError\", \n",
    "             \"NoClassDefFoundError\", \"NoSuchFieldError\", \"NoSuchMethodError\", \"OutOfMemoryError\", \"StackOverflowError\",\n",
    "             \"ThreadDeath\", \"UnknownError\", \"UnsatisfiedLinkError\", \"UnsupportedClassVersionError\", \"VerifyError\", \n",
    "             \"VirtualMachineError\", \"Deprecated\", \"Override\", \"SafeVarargs\", \"SuppressWarnings\"}\n",
    "java_lang = {\"java.lang.\" + x for x in java_lang}"
   ]
  },
  {
   "cell_type": "code",
   "execution_count": 3,
   "metadata": {},
   "outputs": [],
   "source": [
    "def removeDuplicateImports(imports):\n",
    "    \"\"\"\n",
    "    Get a list of strings (imports), remove all duplicates, and return a set of strings (unique imports). \n",
    "    \"\"\"\n",
    "    unique_imports = []\n",
    "    for clazz in imports:\n",
    "        if '.' not in clazz or clazz in java_lang:\n",
    "            continue\n",
    "        unique_imports.append(clazz)\n",
    "    return unique_imports"
   ]
  },
  {
   "cell_type": "code",
   "execution_count": 4,
   "metadata": {},
   "outputs": [
    {
     "data": {
      "application/vnd.jupyter.widget-view+json": {
       "model_id": "65db65e40ebb48de88cafbfb7bbd7bc8",
       "version_major": 2,
       "version_minor": 0
      },
      "text/plain": [
       "HBox(children=(IntProgress(value=0, max=1), HTML(value='')))"
      ]
     },
     "metadata": {},
     "output_type": "display_data"
    },
    {
     "name": "stdout",
     "output_type": "stream",
     "text": [
      "\n"
     ]
    }
   ],
   "source": [
    "JSON_FILES = sorted(glob('../data/GitHubNewOriginalParsed/*.json'))\n",
    "\n",
    "df = []\n",
    "for filename in tqdm(JSON_FILES):\n",
    "    tmp = pd.read_json(filename, lines=True)\n",
    "    tmp.classImports = tmp.classImports.apply(removeDuplicateImports)\n",
    "    df.append(tmp)"
   ]
  },
  {
   "cell_type": "code",
   "execution_count": 5,
   "metadata": {},
   "outputs": [],
   "source": [
    "df = pd.concat(df)"
   ]
  },
  {
   "cell_type": "code",
   "execution_count": 6,
   "metadata": {},
   "outputs": [],
   "source": [
    "df.sort_values(by=\"repo\", inplace=True)"
   ]
  },
  {
   "cell_type": "markdown",
   "metadata": {},
   "source": [
    "## Removing repos that do not have packages"
   ]
  },
  {
   "cell_type": "code",
   "execution_count": 7,
   "metadata": {},
   "outputs": [
    {
     "name": "stdout",
     "output_type": "stream",
     "text": [
      "Total repos: 20241, total files: 92510, repos without packages: 657\n"
     ]
    }
   ],
   "source": [
    "bad_repos = []\n",
    "for i in range(len(df.package.values)):\n",
    "    if df.package.values[i] == \"\":\n",
    "        bad_repos.append(df.repo.values[i])\n",
    "bad_repos = set(bad_repos)\n",
    "print(\"Total repos: %d, total files: %d, repos without packages: %d\" \n",
    "      %(len(df.repo.value_counts()), len(df), len(bad_repos)))"
   ]
  },
  {
   "cell_type": "code",
   "execution_count": 8,
   "metadata": {},
   "outputs": [
    {
     "name": "stdout",
     "output_type": "stream",
     "text": [
      "Total repos: 19584, total files: 77901\n"
     ]
    }
   ],
   "source": [
    "df = df[~df.repo.isin(bad_repos)]\n",
    "print(\"Total repos: %d, total files: %d\" %(len(df.repo.value_counts()), len(df)))"
   ]
  },
  {
   "cell_type": "markdown",
   "metadata": {},
   "source": [
    "## Removing repos with duplicate packages"
   ]
  },
  {
   "cell_type": "code",
   "execution_count": null,
   "metadata": {},
   "outputs": [],
   "source": [
    "forks = pd.read_json(\"../data/forks.json\", lines=True)\n",
    "stars = pd.read_json(\"../data/stars.json\", lines=True)\n",
    "\n",
    "forks = {forks.original.values[i]: forks.f0_.values[i] for i in range(len(forks))}\n",
    "stars = {stars.original.values[i]: stars.f0_.values[i] for i in range(len(stars))}"
   ]
  },
  {
   "cell_type": "code",
   "execution_count": 12,
   "metadata": {},
   "outputs": [
    {
     "data": {
      "text/html": [
       "<div>\n",
       "<style scoped>\n",
       "    .dataframe tbody tr th:only-of-type {\n",
       "        vertical-align: middle;\n",
       "    }\n",
       "\n",
       "    .dataframe tbody tr th {\n",
       "        vertical-align: top;\n",
       "    }\n",
       "\n",
       "    .dataframe thead th {\n",
       "        text-align: right;\n",
       "    }\n",
       "</style>\n",
       "<table border=\"1\" class=\"dataframe\">\n",
       "  <thead>\n",
       "    <tr style=\"text-align: right;\">\n",
       "      <th></th>\n",
       "      <th>f0_</th>\n",
       "      <th>original</th>\n",
       "    </tr>\n",
       "  </thead>\n",
       "  <tbody>\n",
       "    <tr>\n",
       "      <th>0</th>\n",
       "      <td>4</td>\n",
       "      <td>lscsoft/docker-ligo-lalsuite-dev</td>\n",
       "    </tr>\n",
       "    <tr>\n",
       "      <th>1</th>\n",
       "      <td>20</td>\n",
       "      <td>gabrielfeitosa/ci-spring-boot</td>\n",
       "    </tr>\n",
       "    <tr>\n",
       "      <th>2</th>\n",
       "      <td>19</td>\n",
       "      <td>univie-tnt-2018-summer/univie-tnt-2018-summer....</td>\n",
       "    </tr>\n",
       "    <tr>\n",
       "      <th>3</th>\n",
       "      <td>7</td>\n",
       "      <td>lcg0124/clouddo-view</td>\n",
       "    </tr>\n",
       "    <tr>\n",
       "      <th>4</th>\n",
       "      <td>65</td>\n",
       "      <td>Azoy/Sword</td>\n",
       "    </tr>\n",
       "  </tbody>\n",
       "</table>\n",
       "</div>"
      ],
      "text/plain": [
       "   f0_                                           original\n",
       "0    4                   lscsoft/docker-ligo-lalsuite-dev\n",
       "1   20                      gabrielfeitosa/ci-spring-boot\n",
       "2   19  univie-tnt-2018-summer/univie-tnt-2018-summer....\n",
       "3    7                               lcg0124/clouddo-view\n",
       "4   65                                         Azoy/Sword"
      ]
     },
     "execution_count": 12,
     "metadata": {},
     "output_type": "execute_result"
    }
   ],
   "source": [
    "forks.head()"
   ]
  },
  {
   "cell_type": "code",
   "execution_count": 37,
   "metadata": {},
   "outputs": [],
   "source": [
    "# df.to_json('../data/all_data_new.json', lines=True, orient=\"records\")"
   ]
  }
 ],
 "metadata": {
  "kernelspec": {
   "display_name": "Python 3",
   "language": "python",
   "name": "python3"
  },
  "language_info": {
   "codemirror_mode": {
    "name": "ipython",
    "version": 3
   },
   "file_extension": ".py",
   "mimetype": "text/x-python",
   "name": "python",
   "nbconvert_exporter": "python",
   "pygments_lexer": "ipython3",
   "version": "3.6.3"
  }
 },
 "nbformat": 4,
 "nbformat_minor": 2
}

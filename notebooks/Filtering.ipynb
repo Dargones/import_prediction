{
 "cells": [
  {
   "cell_type": "markdown",
   "metadata": {},
   "source": [
    "# This module contains code for filtering the data parsed with java parser"
   ]
  },
  {
   "cell_type": "code",
   "execution_count": 1,
   "metadata": {},
   "outputs": [],
   "source": [
    "import pandas as pd\n",
    "from glob import glob\n",
    "from tqdm.auto import tqdm\n",
    "import joblib\n",
    "tqdm.pandas()"
   ]
  },
  {
   "cell_type": "code",
   "execution_count": 2,
   "metadata": {},
   "outputs": [],
   "source": [
    "# list of compilation units inside java.lang package that should be ignored when loadig the data\n",
    "java_lang = {\"Appendable\", \"AutoCloseable\", \"CharSequence\", \"Cloneable\", \"Comparable\", \"Iterable\", \"Readable\", \n",
    "             \"Runnable\", \"Boolean\", \"Byte\", \"Character\", \"Class\", \"ClassLoader\", \"ClassValue\", \"Compiler\", \"Double\", \n",
    "             \"Enum\", \"Float\", \"InheritableThreadLocal\", \"Integer\", \"Long\", \"Math\", \"Number\", \"Object\", \"Package\", \n",
    "             \"Process\", \"ProcessBuilder\", \"Runtime\", \"RuntimePermission\", \"SecurityManager\", \"Short\", \n",
    "             \"StackTraceElement\", \"StrictMath\", \"String\", \"StringBuffer\", \"StringBuilder\", \"System\", \"Thread\", \n",
    "             \"ThreadGroup\", \"ThreadLocal\", \"Throwable\", \"Void\", \"ArithmeticException\", \n",
    "             \"ArrayIndexOutOfBoundsException\", \"ArrayStoreException\", \"ClassCastException\", \"ClassNotFoundException\", \n",
    "             \"CloneNotSupportedException\", \"EnumConstantNotPresentException\", \"Exception\", \"IllegalAccessException\", \n",
    "             \"IllegalArgumentException\", \"IllegalMonitorStateException\", \"IllegalStateException\", \n",
    "             \"IllegalThreadStateException\", \"IndexOutOfBoundsException\", \"InstantiationException\", \n",
    "             \"InterruptedException\", \"NegativeArraySizeException\", \"NoSuchFieldException\", \"NoSuchMethodException\", \n",
    "             \"NullPointerException\", \"NumberFormatException\", \"ReflectiveOperationException\", \"RuntimeException\", \n",
    "             \"SecurityException\", \"StringIndexOutOfBoundsException\", \"TypeNotPresentException\", \n",
    "             \"UnsupportedOperationException\", \"AbstractMethodError\", \"AssertionError\", \"BootstrapMethodError\", \n",
    "             \"ClassCircularityError\", \"ClassFormatError\", \"Error\", \"ExceptionInInitializerError\", \"IllegalAccessError\",\n",
    "             \"IncompatibleClassChangeError\", \"InstantiationError\", \"InternalError\", \"LinkageError\", \n",
    "             \"NoClassDefFoundError\", \"NoSuchFieldError\", \"NoSuchMethodError\", \"OutOfMemoryError\", \"StackOverflowError\",\n",
    "             \"ThreadDeath\", \"UnknownError\", \"UnsatisfiedLinkError\", \"UnsupportedClassVersionError\", \"VerifyError\", \n",
    "             \"VirtualMachineError\", \"Deprecated\", \"Override\", \"SafeVarargs\", \"SuppressWarnings\"}\n",
    "java_lang = {\"java.lang.\" + x for x in java_lang}"
   ]
  },
  {
   "cell_type": "code",
   "execution_count": 3,
   "metadata": {},
   "outputs": [],
   "source": [
    "def removeDuplicateImports(imports):\n",
    "    \"\"\"\n",
    "    Get a list of strings (imports), remove all duplicates, and return a set of strings (unique imports). \n",
    "    \"\"\"\n",
    "    unique_imports = []\n",
    "    for clazz in imports:\n",
    "        if '.' not in clazz or clazz in java_lang:\n",
    "            continue\n",
    "        unique_imports.append(clazz)\n",
    "    return unique_imports"
   ]
  },
  {
   "cell_type": "code",
   "execution_count": 4,
   "metadata": {},
   "outputs": [
    {
     "data": {
      "application/vnd.jupyter.widget-view+json": {
       "model_id": "5fb235622018485eb87c95779fa76b46",
       "version_major": 2,
       "version_minor": 0
      },
      "text/plain": [
       "HBox(children=(IntProgress(value=0, max=92), HTML(value='')))"
      ]
     },
     "metadata": {},
     "output_type": "display_data"
    },
    {
     "name": "stdout",
     "output_type": "stream",
     "text": [
      "\n"
     ]
    }
   ],
   "source": [
    "JSON_FILES = sorted(glob('../data/GitHubNewOriginalParsed/*.json'))\n",
    "\n",
    "df = []\n",
    "for filename in tqdm(JSON_FILES):\n",
    "    tmp = pd.read_json(filename, lines=True)\n",
    "    tmp.classImports = tmp.classImports.apply(removeDuplicateImports)\n",
    "    df.append(tmp)"
   ]
  },
  {
   "cell_type": "code",
   "execution_count": 5,
   "metadata": {},
   "outputs": [],
   "source": [
    "df = pd.concat(df)"
   ]
  },
  {
   "cell_type": "code",
   "execution_count": 6,
   "metadata": {},
   "outputs": [],
   "source": [
    "# df.sort_values(by=\"repo\", inplace=True)"
   ]
  },
  {
   "cell_type": "code",
   "execution_count": null,
   "metadata": {},
   "outputs": [],
   "source": [
    "df.to_json('../data/all_data_new.json', lines=True, orient=\"records\")"
   ]
  }
 ],
 "metadata": {
  "kernelspec": {
   "display_name": "Python 3",
   "language": "python",
   "name": "python3"
  },
  "language_info": {
   "codemirror_mode": {
    "name": "ipython",
    "version": 3
   },
   "file_extension": ".py",
   "mimetype": "text/x-python",
   "name": "python",
   "nbconvert_exporter": "python",
   "pygments_lexer": "ipython3",
   "version": "3.6.3"
  }
 },
 "nbformat": 4,
 "nbformat_minor": 2
}

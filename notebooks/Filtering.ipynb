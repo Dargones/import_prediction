{
 "cells": [
  {
   "cell_type": "markdown",
   "metadata": {},
   "source": [
    "# This module contains code for filtering the data parsed with java parser"
   ]
  },
  {
   "cell_type": "code",
   "execution_count": 1,
   "metadata": {},
   "outputs": [],
   "source": [
    "import pandas as pd\n",
    "from glob import glob\n",
    "from tqdm.auto import tqdm\n",
    "import joblib\n",
    "tqdm.pandas()"
   ]
  },
  {
   "cell_type": "markdown",
   "metadata": {},
   "source": [
    "## Gatherig all data in one table, removing duplicate imports and java.lang imports"
   ]
  },
  {
   "cell_type": "code",
   "execution_count": 2,
   "metadata": {},
   "outputs": [],
   "source": [
    "# list of compilation units inside java.lang package that should be ignored when loadig the data\n",
    "java_lang = {\"Appendable\", \"AutoCloseable\", \"CharSequence\", \"Cloneable\", \"Comparable\", \"Iterable\", \"Readable\", \n",
    "             \"Runnable\", \"Boolean\", \"Byte\", \"Character\", \"Class\", \"ClassLoader\", \"ClassValue\", \"Compiler\", \"Double\", \n",
    "             \"Enum\", \"Float\", \"InheritableThreadLocal\", \"Integer\", \"Long\", \"Math\", \"Number\", \"Object\", \"Package\", \n",
    "             \"Process\", \"ProcessBuilder\", \"Runtime\", \"RuntimePermission\", \"SecurityManager\", \"Short\", \n",
    "             \"StackTraceElement\", \"StrictMath\", \"String\", \"StringBuffer\", \"StringBuilder\", \"System\", \"Thread\", \n",
    "             \"ThreadGroup\", \"ThreadLocal\", \"Throwable\", \"Void\", \"ArithmeticException\", \n",
    "             \"ArrayIndexOutOfBoundsException\", \"ArrayStoreException\", \"ClassCastException\", \"ClassNotFoundException\", \n",
    "             \"CloneNotSupportedException\", \"EnumConstantNotPresentException\", \"Exception\", \"IllegalAccessException\", \n",
    "             \"IllegalArgumentException\", \"IllegalMonitorStateException\", \"IllegalStateException\", \n",
    "             \"IllegalThreadStateException\", \"IndexOutOfBoundsException\", \"InstantiationException\", \n",
    "             \"InterruptedException\", \"NegativeArraySizeException\", \"NoSuchFieldException\", \"NoSuchMethodException\", \n",
    "             \"NullPointerException\", \"NumberFormatException\", \"ReflectiveOperationException\", \"RuntimeException\", \n",
    "             \"SecurityException\", \"StringIndexOutOfBoundsException\", \"TypeNotPresentException\", \n",
    "             \"UnsupportedOperationException\", \"AbstractMethodError\", \"AssertionError\", \"BootstrapMethodError\", \n",
    "             \"ClassCircularityError\", \"ClassFormatError\", \"Error\", \"ExceptionInInitializerError\", \"IllegalAccessError\",\n",
    "             \"IncompatibleClassChangeError\", \"InstantiationError\", \"InternalError\", \"LinkageError\", \n",
    "             \"NoClassDefFoundError\", \"NoSuchFieldError\", \"NoSuchMethodError\", \"OutOfMemoryError\", \"StackOverflowError\",\n",
    "             \"ThreadDeath\", \"UnknownError\", \"UnsatisfiedLinkError\", \"UnsupportedClassVersionError\", \"VerifyError\", \n",
    "             \"VirtualMachineError\", \"Deprecated\", \"Override\", \"SafeVarargs\", \"SuppressWarnings\"}\n",
    "java_lang = {\"java.lang.\" + x for x in java_lang}"
   ]
  },
  {
   "cell_type": "code",
   "execution_count": 3,
   "metadata": {},
   "outputs": [],
   "source": [
    "def removeDuplicateImports(imports):\n",
    "    \"\"\"\n",
    "    Get a list of strings (imports), remove all duplicates, and return a set of strings (unique imports). \n",
    "    \"\"\"\n",
    "    unique_imports = []\n",
    "    for clazz in imports:\n",
    "        if '.' not in clazz or clazz in java_lang:\n",
    "            continue\n",
    "        unique_imports.append(clazz)\n",
    "    return unique_imports"
   ]
  },
  {
   "cell_type": "code",
   "execution_count": 4,
   "metadata": {},
   "outputs": [
    {
     "data": {
      "application/vnd.jupyter.widget-view+json": {
       "model_id": "0fbea52376ba4ce28edc7c44ee136f35",
       "version_major": 2,
       "version_minor": 0
      },
      "text/plain": [
       "HBox(children=(IntProgress(value=0, max=1), HTML(value='')))"
      ]
     },
     "metadata": {},
     "output_type": "display_data"
    },
    {
     "name": "stdout",
     "output_type": "stream",
     "text": [
      "\n"
     ]
    }
   ],
   "source": [
    "JSON_FILES = sorted(glob('../data/GitHubNewOriginalParsed/*.json'))\n",
    "\n",
    "df = []\n",
    "for filename in tqdm(JSON_FILES[:1]):\n",
    "    tmp = pd.read_json(filename, lines=True)\n",
    "    tmp.classImports = tmp.classImports.apply(removeDuplicateImports)\n",
    "    df.append(tmp)"
   ]
  },
  {
   "cell_type": "code",
   "execution_count": 5,
   "metadata": {},
   "outputs": [],
   "source": [
    "df = pd.concat(df)"
   ]
  },
  {
   "cell_type": "code",
   "execution_count": 6,
   "metadata": {},
   "outputs": [],
   "source": [
    "df.sort_values(by=\"repo\", inplace=True)"
   ]
  },
  {
   "cell_type": "markdown",
   "metadata": {},
   "source": [
    "## Removing repos that do not have packages"
   ]
  },
  {
   "cell_type": "code",
   "execution_count": 7,
   "metadata": {},
   "outputs": [],
   "source": [
    "def remove_repos(df, bad_repos):\n",
    "    print(\"Total repos: %d, total files: %d, repos to be removed: %d\" \n",
    "      %(len(df.repo.unique()), len(df), len(bad_repos)))\n",
    "    df = df[~df.repo.isin(bad_repos)]\n",
    "    print(\"Total repos: %d, total files: %d\" %(len(df.repo.unique()), len(df)))"
   ]
  },
  {
   "cell_type": "code",
   "execution_count": 8,
   "metadata": {},
   "outputs": [
    {
     "name": "stdout",
     "output_type": "stream",
     "text": [
      "Total repos: 20241, total files: 92510, repos to be removed: 657\n",
      "Total repos: 19584, total files: 77901\n"
     ]
    }
   ],
   "source": [
    "bad_repos = []\n",
    "for i in range(len(df)):\n",
    "    if df.package.values[i] == \"\":\n",
    "        bad_repos.append(df.repo.values[i])\n",
    "bad_repos = set(bad_repos)\n",
    "remove_repos(df, bad_repos)"
   ]
  },
  {
   "cell_type": "markdown",
   "metadata": {},
   "source": [
    "## Removing repos with duplicate packages"
   ]
  },
  {
   "cell_type": "code",
   "execution_count": 9,
   "metadata": {},
   "outputs": [],
   "source": [
    "forks = pd.read_json(\"../data/forks.json\", lines=True)\n",
    "# stars = pd.read_json(\"../data/stars.json\", lines=True)\n",
    "forks = dict(zip(forks.original, forks.f0_))\n",
    "# stars = dict(zip(stars.repo, forks.f0_))"
   ]
  },
  {
   "cell_type": "code",
   "execution_count": 10,
   "metadata": {},
   "outputs": [
    {
     "data": {
      "application/vnd.jupyter.widget-view+json": {
       "model_id": "ac522a5743504b49aba8ce16d4da34c8",
       "version_major": 2,
       "version_minor": 0
      },
      "text/plain": [
       "HBox(children=(IntProgress(value=0, max=92510), HTML(value='')))"
      ]
     },
     "metadata": {},
     "output_type": "display_data"
    },
    {
     "name": "stdout",
     "output_type": "stream",
     "text": [
      "\n"
     ]
    }
   ],
   "source": [
    "packages = {}\n",
    "for i in tqdm(range(len(df))):\n",
    "    if df.package.values[i] in packages:\n",
    "        if df.repo.values[i] not in packages[df.package.values[i]]:\n",
    "            packages[df.package.values[i]].append(df.repo.values[i])\n",
    "    else:\n",
    "        packages[df.package.values[i]] = [df.repo.values[i]]"
   ]
  },
  {
   "cell_type": "code",
   "execution_count": 13,
   "metadata": {},
   "outputs": [
    {
     "data": {
      "application/vnd.jupyter.widget-view+json": {
       "model_id": "9c002bff1ec74f61a9043254ce7f3925",
       "version_major": 2,
       "version_minor": 0
      },
      "text/plain": [
       "HBox(children=(IntProgress(value=0, max=65711), HTML(value='')))"
      ]
     },
     "metadata": {},
     "output_type": "display_data"
    },
    {
     "name": "stdout",
     "output_type": "stream",
     "text": [
      "\n"
     ]
    }
   ],
   "source": [
    "bad_repos = {\"\",}\n",
    "for package in tqdm(packages.keys()):\n",
    "    repos_tmp = [x for x in packages[package] if x not in bad_repos] \n",
    "    if len(repos_tmp) <= 1:\n",
    "        continue\n",
    "    best_repo = repos_tmp[0]\n",
    "    max_forks = forks[repos_tmp[0]]\n",
    "    for repo in repos_tmp:\n",
    "        if forks[repo] >= max_forks:\n",
    "            bad_repos.add(best_repo)\n",
    "            max_forks = forks[repo]\n",
    "            best_repo = repo\n",
    "        else:\n",
    "            bad_repos.add(repo)"
   ]
  },
  {
   "cell_type": "code",
   "execution_count": 14,
   "metadata": {},
   "outputs": [
    {
     "name": "stdout",
     "output_type": "stream",
     "text": [
      "Total repos: 20241, total files: 92510, repos to be removed: 2928\n",
      "Total repos: 17314, total files: 54331\n"
     ]
    }
   ],
   "source": [
    "remove_repos(df, bad_repos)"
   ]
  },
  {
   "cell_type": "code",
   "execution_count": null,
   "metadata": {},
   "outputs": [],
   "source": [
    "df.to_json('../data/all_data_new.json', lines=True, orient=\"records\")"
   ]
  }
 ],
 "metadata": {
  "kernelspec": {
   "display_name": "Python 3",
   "language": "python",
   "name": "python3"
  },
  "language_info": {
   "codemirror_mode": {
    "name": "ipython",
    "version": 3
   },
   "file_extension": ".py",
   "mimetype": "text/x-python",
   "name": "python",
   "nbconvert_exporter": "python",
   "pygments_lexer": "ipython3",
   "version": "3.6.3"
  }
 },
 "nbformat": 4,
 "nbformat_minor": 2
}

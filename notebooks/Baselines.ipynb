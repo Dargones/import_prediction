{
 "cells": [
  {
   "cell_type": "code",
   "execution_count": 1,
   "metadata": {},
   "outputs": [],
   "source": [
    "import joblib\n",
    "from tqdm.auto import tqdm\n",
    "from sklearn import svm\n",
    "from sklearn.ensemble import RandomForestClassifier\n",
    "import networkx as nx\n",
    "import numpy as np"
   ]
  },
  {
   "cell_type": "code",
   "execution_count": 2,
   "metadata": {},
   "outputs": [],
   "source": [
    "TARGET_SIZES = (1, 4, 24, 124)\n",
    "FEATURES = (\"ed_\", \"emb_self_\", \"emb_imp_\", \"degree_\", \"min_dist_\")"
   ]
  },
  {
   "cell_type": "code",
   "execution_count": 3,
   "metadata": {},
   "outputs": [],
   "source": [
    "test = joblib.load(\"../data/graphsTest\")\n",
    "train = joblib.load(\"../data/graphsTrain\")"
   ]
  },
  {
   "cell_type": "markdown",
   "metadata": {},
   "source": [
    "## Shortest Distance, Number of Paths, Number of Edges to the node, string similarity, embedding similarity"
   ]
  },
  {
   "cell_type": "code",
   "execution_count": 4,
   "metadata": {},
   "outputs": [],
   "source": [
    "# Copied from Wikipedia\n",
    "def levenshtein(s1, s2):\n",
    "    if len(s1) < len(s2):\n",
    "        return levenshtein(s2, s1)\n",
    "\n",
    "    # len(s1) >= len(s2)\n",
    "    if len(s2) == 0:\n",
    "        return len(s1)\n",
    "\n",
    "    previous_row = range(len(s2) + 1)\n",
    "    for i, c1 in enumerate(s1):\n",
    "        current_row = [i + 1]\n",
    "        for j, c2 in enumerate(s2):\n",
    "            insertions = previous_row[j + 1] + 1 # j+1 instead of j since previous_row and current_row are one character longer\n",
    "            deletions = current_row[j] + 1       # than s2\n",
    "            substitutions = previous_row[j] + (c1 != c2)\n",
    "            current_row.append(min(insertions, deletions, substitutions))\n",
    "        previous_row = current_row\n",
    "    \n",
    "    return previous_row[-1]"
   ]
  },
  {
   "cell_type": "code",
   "execution_count": 5,
   "metadata": {},
   "outputs": [],
   "source": [
    "def calculate_edit_distance(graph):\n",
    "    for n in TARGET_SIZES:\n",
    "        graph[\"ed_\" + str(n)] = np.zeros(len(graph[\"targets_\" + str(n)]))\n",
    "        if len(graph[\"targets_\" + str(n)]) == 0:\n",
    "            continue\n",
    "        anchor_str = graph[\"strings\"][graph[\"targets_\" + str(n)][0]]\n",
    "        anchor_str = anchor_str.split('.')[-1]\n",
    "        for i in range(len(graph[\"targets_\" + str(n)])):\n",
    "            node_id = graph[\"targets_\" + str(n)][i]\n",
    "            node_str = graph[\"strings\"][node_id]\n",
    "            node_str = node_str.split('.')[-1]\n",
    "            graph[\"ed_\" + str(n)][i] = levenshtein(anchor_str, node_str) "
   ]
  },
  {
   "cell_type": "code",
   "execution_count": 6,
   "metadata": {},
   "outputs": [],
   "source": [
    "def calculate_embedding_distance(graph):\n",
    "    for n in TARGET_SIZES:\n",
    "        graph[\"emb_self_\" + str(n)] = np.zeros(len(graph[\"targets_\" + str(n)]))\n",
    "        graph[\"emb_imp_\" + str(n)] = np.zeros(len(graph[\"targets_\" + str(n)]))\n",
    "        if len(graph[\"targets_\" + str(n)]) == 0:\n",
    "            continue\n",
    "        anchor_emb = graph[\"annotations\"][graph[\"targets_\" + str(n)][0]]\n",
    "        for i in range(len(graph[\"targets_\" + str(n)])):\n",
    "            node_id = graph[\"targets_\" + str(n)][i]\n",
    "            node_emb = graph[\"annotations\"][node_id]\n",
    "            graph[\"emb_self_\" + str(n)][i] = np.sum((anchor_emb[:50] - node_emb[:50])**2)  \n",
    "            graph[\"emb_imp_\" + str(n)][i] = np.sum((anchor_emb[50:] - node_emb[50:])**2)  "
   ]
  },
  {
   "cell_type": "code",
   "execution_count": 7,
   "metadata": {},
   "outputs": [],
   "source": [
    "def nx_graph(graph):\n",
    "    G = nx.Graph()\n",
    "    for i in range(len(graph[\"strings\"])):\n",
    "        node = i\n",
    "        G.add_node(node)\n",
    "    for edge in graph[\"edges\"]:\n",
    "        node_from, _, node_to = edge\n",
    "        G.add_edge(node_from, node_to)\n",
    "    return G"
   ]
  },
  {
   "cell_type": "code",
   "execution_count": 8,
   "metadata": {},
   "outputs": [],
   "source": [
    "def calculate_graph_features(graph):\n",
    "    G = nx_graph(graph)\n",
    "    for n in TARGET_SIZES:\n",
    "        graph[\"min_dist_\" + str(n)] = np.zeros(len(graph[\"targets_\" + str(n)]))\n",
    "        graph[\"degree_\" + str(n)] = np.zeros(len(graph[\"targets_\" + str(n)]))\n",
    "        if len(graph[\"targets_\" + str(n)]) == 0:\n",
    "            continue\n",
    "        anchor = graph[\"targets_\" + str(n)][0]\n",
    "        target = graph[\"targets_\" + str(n)][1]\n",
    "        G.remove_edge(anchor, target)\n",
    "        path_lengths = nx.single_source_shortest_path_length(G, anchor)\n",
    "        G.add_edge(anchor, target)\n",
    "        not_reachable = max(path_lengths.values()) + 1\n",
    "        # print(path_lengths, not_reachable)\n",
    "        for i in range(len(graph[\"targets_\" + str(n)])):\n",
    "            node = graph[\"targets_\" + str(n)][i]\n",
    "            graph[\"min_dist_\" + str(n)][i] = path_lengths.get(node, not_reachable)\n",
    "            graph[\"degree_\" + str(n)][i] = G.degree(node)\n",
    "            # print(graph[\"strings\"][anchor].split('.')[-1], \n",
    "            # graph[\"strings\"][node].split('.')[-1], graph[\"features_min_dist_\" + str(n)][i])"
   ]
  },
  {
   "cell_type": "code",
   "execution_count": 9,
   "metadata": {},
   "outputs": [
    {
     "data": {
      "application/vnd.jupyter.widget-view+json": {
       "model_id": "84c31b7797294a70b185baebfe337842",
       "version_major": 2,
       "version_minor": 0
      },
      "text/plain": [
       "HBox(children=(IntProgress(value=0, max=2167), HTML(value='')))"
      ]
     },
     "metadata": {},
     "output_type": "display_data"
    },
    {
     "name": "stdout",
     "output_type": "stream",
     "text": [
      "\n"
     ]
    }
   ],
   "source": [
    "for graph in tqdm(test):\n",
    "    calculate_edit_distance(graph)\n",
    "    calculate_embedding_distance(graph)\n",
    "    calculate_graph_features(graph)"
   ]
  },
  {
   "cell_type": "code",
   "execution_count": 10,
   "metadata": {},
   "outputs": [
    {
     "data": {
      "application/vnd.jupyter.widget-view+json": {
       "model_id": "73b3d831e0724792a86fd5f77bd49bcc",
       "version_major": 2,
       "version_minor": 0
      },
      "text/plain": [
       "HBox(children=(IntProgress(value=0, max=19503), HTML(value='')))"
      ]
     },
     "metadata": {},
     "output_type": "display_data"
    },
    {
     "name": "stdout",
     "output_type": "stream",
     "text": [
      "\n"
     ]
    }
   ],
   "source": [
    "for graph in tqdm(train):\n",
    "    calculate_edit_distance(graph)\n",
    "    calculate_embedding_distance(graph)\n",
    "    calculate_graph_features(graph)"
   ]
  },
  {
   "cell_type": "code",
   "execution_count": 11,
   "metadata": {},
   "outputs": [],
   "source": [
    "def take_max_or_min(graph, n, key, ismax=True):\n",
    "    if ismax:\n",
    "        extreme = np.max(graph[key + str(n)][1:])\n",
    "    else:\n",
    "        extreme = np.min(graph[key + str(n)][1:])\n",
    "    if graph[key + str(n)][1] != extreme:\n",
    "        return 0\n",
    "    options = np.where(graph[key + str(n)][1:] == extreme)[0]\n",
    "    if len(options) > 1:\n",
    "        return 0\n",
    "    return 1"
   ]
  },
  {
   "cell_type": "code",
   "execution_count": 25,
   "metadata": {},
   "outputs": [],
   "source": [
    "def test_baseline(baseline, n):\n",
    "    total = 0\n",
    "    correct = 0\n",
    "    for graph in test:\n",
    "        if len(graph[\"targets_\" + str(n)]) == 0:\n",
    "            continue\n",
    "        total += 1\n",
    "        correct += baseline(graph, n)\n",
    "    return correct/total"
   ]
  },
  {
   "cell_type": "code",
   "execution_count": 26,
   "metadata": {},
   "outputs": [
    {
     "name": "stdout",
     "output_type": "stream",
     "text": [
      "Testing with 1 options:\n",
      "\ted_:\t54.7\n",
      "\temb_self_:\t51.1\n",
      "\temb_imp_:\t51.4\n",
      "\tdegree_:\t70.4\n",
      "\tmin_dist_:\t34.3\n",
      "Testing with 4 options:\n",
      "\ted_:\t30.2\n",
      "\temb_self_:\t25.7\n",
      "\temb_imp_:\t22.6\n",
      "\tdegree_:\t50.4\n",
      "\tmin_dist_:\t12.0\n",
      "Testing with 24 options:\n",
      "\ted_:\t10.9\n",
      "\temb_self_:\t10.7\n",
      "\temb_imp_:\t7.5\n",
      "\tdegree_:\t26.2\n",
      "\tmin_dist_:\t1.7\n",
      "Testing with 124 options:\n",
      "\ted_:\t6.2\n",
      "\temb_self_:\t7.1\n",
      "\temb_imp_:\t3.3\n",
      "\tdegree_:\t11.6\n",
      "\tmin_dist_:\t0.0\n"
     ]
    }
   ],
   "source": [
    "for n in TARGET_SIZES:\n",
    "    print(\"Testing with %d options:\" % n)\n",
    "    for feature in FEATURES:\n",
    "        min_result = test_baseline(lambda x, y: take_max_or_min(x, y, feature, ismax=False), n)\n",
    "        max_result = test_baseline(lambda x, y: take_max_or_min(x, y, feature, ismax=True), n)\n",
    "        print(\"\\t\" + feature + \":\\t\" + str(round(max(min_result, max_result) * 100, 1)))"
   ]
  },
  {
   "cell_type": "code",
   "execution_count": 14,
   "metadata": {},
   "outputs": [],
   "source": [
    "def normalize(dataset):\n",
    "    for n in tqdm(TARGET_SIZES):\n",
    "        for graph in dataset:\n",
    "            if len(graph[\"targets_\" + str(n)]) == 0:\n",
    "                continue\n",
    "            for feature in FEATURES:\n",
    "                max_value = np.max(graph[feature + str(n)][1:])\n",
    "                if max_value != 0:\n",
    "                    graph[feature + str(n)] /= max_value\n",
    "                    graph[feature + str(n)] -= 0.5"
   ]
  },
  {
   "cell_type": "markdown",
   "metadata": {},
   "source": [
    "## Try z-score"
   ]
  },
  {
   "cell_type": "code",
   "execution_count": 15,
   "metadata": {},
   "outputs": [
    {
     "data": {
      "application/vnd.jupyter.widget-view+json": {
       "model_id": "859020fdd39d4c509f153d88e1c87031",
       "version_major": 2,
       "version_minor": 0
      },
      "text/plain": [
       "HBox(children=(IntProgress(value=0, max=4), HTML(value='')))"
      ]
     },
     "metadata": {},
     "output_type": "display_data"
    },
    {
     "name": "stdout",
     "output_type": "stream",
     "text": [
      "\n"
     ]
    }
   ],
   "source": [
    "normalize(train)"
   ]
  },
  {
   "cell_type": "code",
   "execution_count": 16,
   "metadata": {},
   "outputs": [
    {
     "data": {
      "application/vnd.jupyter.widget-view+json": {
       "model_id": "c1aa8c1aac5546d6840fc3731f7a5402",
       "version_major": 2,
       "version_minor": 0
      },
      "text/plain": [
       "HBox(children=(IntProgress(value=0, max=4), HTML(value='')))"
      ]
     },
     "metadata": {},
     "output_type": "display_data"
    },
    {
     "name": "stdout",
     "output_type": "stream",
     "text": [
      "\n"
     ]
    }
   ],
   "source": [
    "normalize(test)"
   ]
  },
  {
   "cell_type": "code",
   "execution_count": 17,
   "metadata": {},
   "outputs": [
    {
     "data": {
      "application/vnd.jupyter.widget-view+json": {
       "model_id": "4d6434760da245519373fac797974275",
       "version_major": 2,
       "version_minor": 0
      },
      "text/plain": [
       "HBox(children=(IntProgress(value=0, max=4), HTML(value='')))"
      ]
     },
     "metadata": {},
     "output_type": "display_data"
    },
    {
     "name": "stdout",
     "output_type": "stream",
     "text": [
      "\n"
     ]
    }
   ],
   "source": [
    "train_y = {}\n",
    "train_X = {}\n",
    "for n in tqdm(TARGET_SIZES):\n",
    "    train_y[n] = []\n",
    "    train_X[n] = []\n",
    "    for graph in train:\n",
    "        if len(graph[\"targets_\" + str(n)]) == 0:\n",
    "            continue\n",
    "        features = np.stack([graph[feature + str(n)] for feature in FEATURES], axis=1)\n",
    "        for i in range(1, n+2):\n",
    "            train_X[n].append(features[i])  \n",
    "        curr_y = np.zeros(n+1)\n",
    "        curr_y[0] = 1\n",
    "        train_y[n] += list(curr_y)"
   ]
  },
  {
   "cell_type": "code",
   "execution_count": 18,
   "metadata": {},
   "outputs": [
    {
     "data": {
      "application/vnd.jupyter.widget-view+json": {
       "model_id": "1aa85b81c26545ad8dde8cef7724692c",
       "version_major": 2,
       "version_minor": 0
      },
      "text/plain": [
       "HBox(children=(IntProgress(value=0, max=4), HTML(value='')))"
      ]
     },
     "metadata": {},
     "output_type": "display_data"
    },
    {
     "name": "stdout",
     "output_type": "stream",
     "text": [
      "\n"
     ]
    }
   ],
   "source": [
    "classsifiers = {}\n",
    "for n in tqdm(TARGET_SIZES):\n",
    "    classsifiers[n] = RandomForestClassifier(n_estimators = 100, n_jobs=2)\n",
    "    classsifiers[n].fit(train_X[n], train_y[n])"
   ]
  },
  {
   "cell_type": "code",
   "execution_count": 19,
   "metadata": {},
   "outputs": [
    {
     "name": "stdout",
     "output_type": "stream",
     "text": [
      "[LibSVM]"
     ]
    },
    {
     "name": "stderr",
     "output_type": "stream",
     "text": [
      "/Library/Frameworks/Python.framework/Versions/3.6/lib/python3.6/site-packages/sklearn/svm/base.py:196: FutureWarning: The default value of gamma will change from 'auto' to 'scale' in version 0.22 to account better for unscaled features. Set gamma explicitly to 'auto' or 'scale' to avoid this warning.\n",
      "  \"avoid this warning.\", FutureWarning)\n"
     ]
    },
    {
     "data": {
      "text/plain": [
       "SVC(C=1.0, cache_size=200, class_weight=None, coef0=0.0,\n",
       "  decision_function_shape='ovr', degree=3, gamma='auto_deprecated',\n",
       "  kernel='rbf', max_iter=-1, probability=True, random_state=None,\n",
       "  shrinking=True, tol=0.001, verbose=True)"
      ]
     },
     "execution_count": 19,
     "metadata": {},
     "output_type": "execute_result"
    }
   ],
   "source": [
    "classifierSVM = svm.SVC(probability=True, verbose=True)\n",
    "classifierSVM.fit(train_X[1], train_y[1])"
   ]
  },
  {
   "cell_type": "code",
   "execution_count": 20,
   "metadata": {},
   "outputs": [],
   "source": [
    "def test_classifier(graph, n, classifier):\n",
    "    features = np.stack([graph[feature + str(n)] for feature in FEATURES], axis=1)\n",
    "    test_X = []\n",
    "    for i in range(1, n+2):\n",
    "        test_X.append(features[i]) \n",
    "    proba = classifier.predict_proba(test_X)\n",
    "    # print(proba)\n",
    "    extreme = np.max(proba, axis=0)[1]\n",
    "    # print(extreme)\n",
    "    # print(proba[0][1])\n",
    "    if proba[0][1] != extreme:\n",
    "        return 0\n",
    "    options = np.where(proba[:, 1] == extreme)[0]\n",
    "    # print(options)\n",
    "    if len(options) > 1:\n",
    "        return 0\n",
    "    return 1"
   ]
  },
  {
   "cell_type": "code",
   "execution_count": 23,
   "metadata": {},
   "outputs": [
    {
     "data": {
      "application/vnd.jupyter.widget-view+json": {
       "model_id": "6f561613f2864dc587b056fb7a1479a0",
       "version_major": 2,
       "version_minor": 0
      },
      "text/plain": [
       "HBox(children=(IntProgress(value=0, max=2167), HTML(value='')))"
      ]
     },
     "metadata": {},
     "output_type": "display_data"
    },
    {
     "name": "stdout",
     "output_type": "stream",
     "text": [
      "\n",
      "Testing with random forest yields:0.772496538994001\n"
     ]
    },
    {
     "data": {
      "application/vnd.jupyter.widget-view+json": {
       "model_id": "51b6df608d4248cca0d4cd39e77d96c3",
       "version_major": 2,
       "version_minor": 0
      },
      "text/plain": [
       "HBox(children=(IntProgress(value=0, max=2167), HTML(value='')))"
      ]
     },
     "metadata": {},
     "output_type": "display_data"
    },
    {
     "name": "stdout",
     "output_type": "stream",
     "text": [
      "\n",
      "Testing with random forest yields:0.544026653974298\n"
     ]
    },
    {
     "data": {
      "application/vnd.jupyter.widget-view+json": {
       "model_id": "a87016dcf73c4baf8cf40a29833bc867",
       "version_major": 2,
       "version_minor": 0
      },
      "text/plain": [
       "HBox(children=(IntProgress(value=0, max=2167), HTML(value='')))"
      ]
     },
     "metadata": {},
     "output_type": "display_data"
    },
    {
     "name": "stdout",
     "output_type": "stream",
     "text": [
      "\n",
      "Testing with random forest yields:0.265625\n"
     ]
    },
    {
     "data": {
      "application/vnd.jupyter.widget-view+json": {
       "model_id": "13d071152d9b4d6087c3d350bee52255",
       "version_major": 2,
       "version_minor": 0
      },
      "text/plain": [
       "HBox(children=(IntProgress(value=0, max=2167), HTML(value='')))"
      ]
     },
     "metadata": {},
     "output_type": "display_data"
    },
    {
     "name": "stdout",
     "output_type": "stream",
     "text": [
      "\n",
      "Testing with random forest yields:0.12033195020746888\n"
     ]
    }
   ],
   "source": [
    "for n in TARGET_SIZES:\n",
    "    print(\"Testing with random forest yields:\" + \n",
    "          str(test_baseline(lambda x, y: test_classifier(x, y, classsifiers[y]), n)))"
   ]
  },
  {
   "cell_type": "code",
   "execution_count": 24,
   "metadata": {},
   "outputs": [
    {
     "data": {
      "application/vnd.jupyter.widget-view+json": {
       "model_id": "54e3733fdbf544669b98bd2dea18058f",
       "version_major": 2,
       "version_minor": 0
      },
      "text/plain": [
       "HBox(children=(IntProgress(value=0, max=2167), HTML(value='')))"
      ]
     },
     "metadata": {},
     "output_type": "display_data"
    },
    {
     "name": "stdout",
     "output_type": "stream",
     "text": [
      "\n",
      "Testing with random forest yields:0.7503461005999077\n"
     ]
    },
    {
     "data": {
      "application/vnd.jupyter.widget-view+json": {
       "model_id": "f7ae136c991d44578950a7ae05e4f551",
       "version_major": 2,
       "version_minor": 0
      },
      "text/plain": [
       "HBox(children=(IntProgress(value=0, max=2167), HTML(value='')))"
      ]
     },
     "metadata": {},
     "output_type": "display_data"
    },
    {
     "name": "stdout",
     "output_type": "stream",
     "text": [
      "\n",
      "Testing with random forest yields:0.5188005711565921\n"
     ]
    },
    {
     "data": {
      "application/vnd.jupyter.widget-view+json": {
       "model_id": "13943d33087d4acb93cd5a83a26a42e4",
       "version_major": 2,
       "version_minor": 0
      },
      "text/plain": [
       "HBox(children=(IntProgress(value=0, max=2167), HTML(value='')))"
      ]
     },
     "metadata": {},
     "output_type": "display_data"
    },
    {
     "name": "stdout",
     "output_type": "stream",
     "text": [
      "\n",
      "Testing with random forest yields:0.15707236842105263\n"
     ]
    },
    {
     "data": {
      "application/vnd.jupyter.widget-view+json": {
       "model_id": "9a4a7699d8f44891a3aac3ad1e47fd2c",
       "version_major": 2,
       "version_minor": 0
      },
      "text/plain": [
       "HBox(children=(IntProgress(value=0, max=2167), HTML(value='')))"
      ]
     },
     "metadata": {},
     "output_type": "display_data"
    },
    {
     "name": "stdout",
     "output_type": "stream",
     "text": [
      "\n",
      "Testing with random forest yields:0.016597510373443983\n"
     ]
    }
   ],
   "source": [
    "for n in TARGET_SIZES:\n",
    "    print(\"Testing with random forest yields:\" + \n",
    "          str(test_baseline(lambda x, y: test_classifier(x, y, classifierSVM), n)))"
   ]
  },
  {
   "cell_type": "code",
   "execution_count": null,
   "metadata": {},
   "outputs": [],
   "source": []
  }
 ],
 "metadata": {
  "kernelspec": {
   "display_name": "Python 3",
   "language": "python",
   "name": "python3"
  },
  "language_info": {
   "codemirror_mode": {
    "name": "ipython",
    "version": 3
   },
   "file_extension": ".py",
   "mimetype": "text/x-python",
   "name": "python",
   "nbconvert_exporter": "python",
   "pygments_lexer": "ipython3",
   "version": "3.6.3"
  }
 },
 "nbformat": 4,
 "nbformat_minor": 2
}

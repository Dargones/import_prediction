{
 "cells": [
  {
   "cell_type": "code",
   "execution_count": 3,
   "metadata": {},
   "outputs": [],
   "source": [
    "import pandas as pd\n",
    "import torch as tt\n",
    "import numpy as np"
   ]
  },
  {
   "cell_type": "code",
   "execution_count": 2,
   "metadata": {},
   "outputs": [],
   "source": [
    "molecules_train = pd.read_json(\"gated-graph-neural-network-pytorch/molecules_trainFull.json\")\n",
    "molecules_valid = pd.read_json(\"gated-graph-neural-network-pytorch/molecules_validFull.json\")"
   ]
  },
  {
   "cell_type": "code",
   "execution_count": 3,
   "metadata": {},
   "outputs": [
    {
     "data": {
      "text/html": [
       "<div>\n",
       "<style scoped>\n",
       "    .dataframe tbody tr th:only-of-type {\n",
       "        vertical-align: middle;\n",
       "    }\n",
       "\n",
       "    .dataframe tbody tr th {\n",
       "        vertical-align: top;\n",
       "    }\n",
       "\n",
       "    .dataframe thead th {\n",
       "        text-align: right;\n",
       "    }\n",
       "</style>\n",
       "<table border=\"1\" class=\"dataframe\">\n",
       "  <thead>\n",
       "    <tr style=\"text-align: right;\">\n",
       "      <th></th>\n",
       "      <th>graph</th>\n",
       "      <th>node_features</th>\n",
       "      <th>targets</th>\n",
       "    </tr>\n",
       "  </thead>\n",
       "  <tbody>\n",
       "    <tr>\n",
       "      <th>0</th>\n",
       "      <td>[[0, 1, 1], [1, 2, 2], [1, 1, 3], [3, 1, 4], [...</td>\n",
       "      <td>[[0, 1, 0, 0, 0], [0, 1, 0, 0, 0], [0, 0, 0, 1...</td>\n",
       "      <td>[[-0.4143944162]]</td>\n",
       "    </tr>\n",
       "    <tr>\n",
       "      <th>1</th>\n",
       "      <td>[[0, 1, 1], [1, 1, 2], [2, 1, 3], [3, 1, 4], [...</td>\n",
       "      <td>[[0, 1, 0, 0, 0], [0, 1, 0, 0, 0], [0, 1, 0, 0...</td>\n",
       "      <td>[[-0.7727865908]]</td>\n",
       "    </tr>\n",
       "    <tr>\n",
       "      <th>2</th>\n",
       "      <td>[[0, 1, 1], [1, 1, 2], [2, 1, 3], [3, 1, 4], [...</td>\n",
       "      <td>[[0, 1, 0, 0, 0], [0, 1, 0, 0, 0], [0, 0, 1, 0...</td>\n",
       "      <td>[[-0.5899948140000001]]</td>\n",
       "    </tr>\n",
       "    <tr>\n",
       "      <th>3</th>\n",
       "      <td>[[0, 1, 1], [1, 1, 2], [2, 1, 3], [3, 1, 4], [...</td>\n",
       "      <td>[[0, 1, 0, 0, 0], [0, 0, 1, 0, 0], [0, 1, 0, 0...</td>\n",
       "      <td>[[-1.2355191359]]</td>\n",
       "    </tr>\n",
       "    <tr>\n",
       "      <th>4</th>\n",
       "      <td>[[0, 1, 1], [1, 1, 2], [2, 1, 3], [3, 1, 4], [...</td>\n",
       "      <td>[[0, 0, 0, 1, 0], [0, 1, 0, 0, 0], [0, 1, 0, 0...</td>\n",
       "      <td>[[-1.2417952483999999]]</td>\n",
       "    </tr>\n",
       "  </tbody>\n",
       "</table>\n",
       "</div>"
      ],
      "text/plain": [
       "                                               graph  \\\n",
       "0  [[0, 1, 1], [1, 2, 2], [1, 1, 3], [3, 1, 4], [...   \n",
       "1  [[0, 1, 1], [1, 1, 2], [2, 1, 3], [3, 1, 4], [...   \n",
       "2  [[0, 1, 1], [1, 1, 2], [2, 1, 3], [3, 1, 4], [...   \n",
       "3  [[0, 1, 1], [1, 1, 2], [2, 1, 3], [3, 1, 4], [...   \n",
       "4  [[0, 1, 1], [1, 1, 2], [2, 1, 3], [3, 1, 4], [...   \n",
       "\n",
       "                                       node_features                  targets  \n",
       "0  [[0, 1, 0, 0, 0], [0, 1, 0, 0, 0], [0, 0, 0, 1...        [[-0.4143944162]]  \n",
       "1  [[0, 1, 0, 0, 0], [0, 1, 0, 0, 0], [0, 1, 0, 0...        [[-0.7727865908]]  \n",
       "2  [[0, 1, 0, 0, 0], [0, 1, 0, 0, 0], [0, 0, 1, 0...  [[-0.5899948140000001]]  \n",
       "3  [[0, 1, 0, 0, 0], [0, 0, 1, 0, 0], [0, 1, 0, 0...        [[-1.2355191359]]  \n",
       "4  [[0, 0, 0, 1, 0], [0, 1, 0, 0, 0], [0, 1, 0, 0...  [[-1.2417952483999999]]  "
      ]
     },
     "execution_count": 3,
     "metadata": {},
     "output_type": "execute_result"
    }
   ],
   "source": [
    "molecules_train.head()"
   ]
  },
  {
   "cell_type": "code",
   "execution_count": 4,
   "metadata": {},
   "outputs": [
    {
     "data": {
      "text/plain": [
       "(120803, 13082)"
      ]
     },
     "execution_count": 4,
     "metadata": {},
     "output_type": "execute_result"
    }
   ],
   "source": [
    "len(molecules_train), len(molecules_valid)"
   ]
  },
  {
   "cell_type": "code",
   "execution_count": 22,
   "metadata": {},
   "outputs": [],
   "source": [
    "molecules_train=molecules_train[:1000]\n",
    "molecules_valid=molecules_valid[:100]"
   ]
  },
  {
   "cell_type": "code",
   "execution_count": 28,
   "metadata": {},
   "outputs": [],
   "source": [
    "molecules_valid.to_json(\"gated-graph-neural-network-pytorch/molecules_valid.json\", orient=\"records\")"
   ]
  },
  {
   "cell_type": "code",
   "execution_count": 29,
   "metadata": {},
   "outputs": [],
   "source": [
    "molecules_train.to_json(\"gated-graph-neural-network-pytorch/molecules_train.json\", orient=\"records\")"
   ]
  },
  {
   "cell_type": "markdown",
   "metadata": {},
   "source": [
    "# Experimenting with Loss functions"
   ]
  },
  {
   "cell_type": "code",
   "execution_count": 4,
   "metadata": {},
   "outputs": [],
   "source": [
    "feat = tt.tensor((np.random.rand(24)).astype(float)).view((2, 4, 3))"
   ]
  },
  {
   "cell_type": "code",
   "execution_count": 5,
   "metadata": {},
   "outputs": [],
   "source": [
    "candidates = tt.DoubleTensor([[0, 0, 0, 1], [0, 1, 1, 0]]) # candidates should not include the positive number"
   ]
  },
  {
   "cell_type": "code",
   "execution_count": 6,
   "metadata": {},
   "outputs": [],
   "source": [
    "anchor = tt.tensor([0, 3])\n",
    "positive = tt.tensor([1, 0])"
   ]
  },
  {
   "cell_type": "code",
   "execution_count": 7,
   "metadata": {},
   "outputs": [
    {
     "data": {
      "text/plain": [
       "(tensor([[[0.9444, 0.8917, 0.4181],\n",
       "          [0.0893, 0.6045, 0.3186],\n",
       "          [0.0836, 0.0597, 0.5882],\n",
       "          [0.3557, 0.8653, 0.5213]],\n",
       " \n",
       "         [[0.5651, 0.1775, 0.0569],\n",
       "          [0.6969, 0.8702, 0.5663],\n",
       "          [0.8732, 0.4919, 0.8192],\n",
       "          [0.2207, 0.8025, 0.2038]]], dtype=torch.float64),\n",
       " tensor([[0., 0., 0., 1.],\n",
       "         [0., 1., 1., 0.]], dtype=torch.float64),\n",
       " tensor([0, 3]),\n",
       " tensor([1, 0]))"
      ]
     },
     "execution_count": 7,
     "metadata": {},
     "output_type": "execute_result"
    }
   ],
   "source": [
    "feat, candidates, anchor, positive"
   ]
  },
  {
   "cell_type": "code",
   "execution_count": 8,
   "metadata": {},
   "outputs": [],
   "source": [
    "anchor_embeds = tt.gather(feat, 1, anchor.view(-1, 1).unsqueeze(2).repeat(1, 1, 3))"
   ]
  },
  {
   "cell_type": "code",
   "execution_count": 9,
   "metadata": {},
   "outputs": [
    {
     "data": {
      "text/plain": [
       "tensor([[[0.9444, 0.8917, 0.4181]],\n",
       "\n",
       "        [[0.2207, 0.8025, 0.2038]]], dtype=torch.float64)"
      ]
     },
     "execution_count": 9,
     "metadata": {},
     "output_type": "execute_result"
    }
   ],
   "source": [
    "anchor_embeds"
   ]
  },
  {
   "cell_type": "code",
   "execution_count": 10,
   "metadata": {},
   "outputs": [
    {
     "data": {
      "text/plain": [
       "tensor([[[ 0.0000,  0.0000,  0.0000],\n",
       "         [-0.8551, -0.2873, -0.0995],\n",
       "         [-0.8608, -0.8321,  0.1701],\n",
       "         [-0.5887, -0.0264,  0.1032]],\n",
       "\n",
       "        [[ 0.3444, -0.6250, -0.1469],\n",
       "         [ 0.4762,  0.0678,  0.3625],\n",
       "         [ 0.6525, -0.3106,  0.6154],\n",
       "         [ 0.0000,  0.0000,  0.0000]]], dtype=torch.float64)"
      ]
     },
     "execution_count": 10,
     "metadata": {},
     "output_type": "execute_result"
    }
   ],
   "source": [
    "feat - anchor_embeds"
   ]
  },
  {
   "cell_type": "code",
   "execution_count": 11,
   "metadata": {},
   "outputs": [
    {
     "data": {
      "text/plain": [
       "tensor([[0.0000, 0.8236, 1.4622, 0.3579],\n",
       "        [0.5308, 0.3628, 0.9009, 0.0000]], dtype=torch.float64)"
      ]
     },
     "execution_count": 11,
     "metadata": {},
     "output_type": "execute_result"
    }
   ],
   "source": [
    "all_dist = tt.sum((feat - anchor_embeds)**2, 2)\n",
    "all_dist"
   ]
  },
  {
   "cell_type": "code",
   "execution_count": 12,
   "metadata": {},
   "outputs": [],
   "source": [
    "dim = 4\n",
    "e = 1e-8"
   ]
  },
  {
   "cell_type": "code",
   "execution_count": 13,
   "metadata": {},
   "outputs": [
    {
     "data": {
      "text/plain": [
       "(tensor([[0.2305],\n",
       "         [0.1424]], dtype=torch.float64),\n",
       " tensor([[0.0000, 0.0000, 0.0000, 2.4138],\n",
       "         [0.0000, 2.4002, 1.4906, 0.0000]], dtype=torch.float64))"
      ]
     },
     "execution_count": 13,
     "metadata": {},
     "output_type": "execute_result"
    }
   ],
   "source": [
    "pos_dist = tt.gather(all_dist, 1, positive.view(-1, 1))\n",
    "pos_dist = -tt.log(-pos_dist / dim + 1 + e)\n",
    "neg_dist = -tt.log(-(dim - all_dist) / dim + 1 + e)\n",
    "neg_dist = neg_dist * candidates\n",
    "pos_dist, neg_dist"
   ]
  },
  {
   "cell_type": "code",
   "execution_count": 14,
   "metadata": {},
   "outputs": [
    {
     "data": {
      "text/plain": [
       "tensor([1., 2.], dtype=torch.float64)"
      ]
     },
     "execution_count": 14,
     "metadata": {},
     "output_type": "execute_result"
    }
   ],
   "source": [
    "neg_total = tt.sum(neg_dist > 0, 1).type(tt.float64)\n",
    "neg_total"
   ]
  },
  {
   "cell_type": "code",
   "execution_count": 15,
   "metadata": {},
   "outputs": [
    {
     "data": {
      "text/plain": [
       "tensor([2.6444, 2.0878], dtype=torch.float64)"
      ]
     },
     "execution_count": 15,
     "metadata": {},
     "output_type": "execute_result"
    }
   ],
   "source": [
    "result = pos_dist.view(-1) + tt.sum(neg_dist, 1) / neg_total\n",
    "result"
   ]
  },
  {
   "cell_type": "code",
   "execution_count": 34,
   "metadata": {},
   "outputs": [
    {
     "data": {
      "text/plain": [
       "tensor([[0.0000, 0.0000, 0.0000, 2.4138],\n",
       "        [0.0000, 2.4002, 1.4906, 0.0000]], dtype=torch.float64)"
      ]
     },
     "execution_count": 34,
     "metadata": {},
     "output_type": "execute_result"
    }
   ],
   "source": [
    "neg_dist"
   ]
  },
  {
   "cell_type": "code",
   "execution_count": 35,
   "metadata": {},
   "outputs": [],
   "source": [
    "pos_dist = tt.DoubleTensor([[2.4], [1.5]])"
   ]
  },
  {
   "cell_type": "code",
   "execution_count": 36,
   "metadata": {},
   "outputs": [],
   "source": [
    "acc = tt.sum(neg_dist> pos_dist, 1).type(tt.float64)/neg_total"
   ]
  },
  {
   "cell_type": "code",
   "execution_count": 37,
   "metadata": {},
   "outputs": [
    {
     "data": {
      "text/plain": [
       "tensor(0.7500, dtype=torch.float64)"
      ]
     },
     "execution_count": 37,
     "metadata": {},
     "output_type": "execute_result"
    }
   ],
   "source": [
    "tt.mean(acc)"
   ]
  },
  {
   "cell_type": "code",
   "execution_count": null,
   "metadata": {},
   "outputs": [],
   "source": []
  }
 ],
 "metadata": {
  "kernelspec": {
   "display_name": "Python 3",
   "language": "python",
   "name": "python3"
  }
 },
 "nbformat": 4,
 "nbformat_minor": 2
}

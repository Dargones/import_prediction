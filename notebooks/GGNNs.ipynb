{
 "cells": [
  {
   "cell_type": "markdown",
   "metadata": {},
   "source": [
    "# This module shows how my GGNN can be run (train\\test loop etc.) and shows some initial results, which outperform the baselines in Baselines.ipynb"
   ]
  },
  {
   "cell_type": "code",
   "execution_count": null,
   "metadata": {},
   "outputs": [],
   "source": [
    "import csv\n",
    "import torch as tt\n",
    "import time\n",
    "import os\n",
    "import numpy as np\n",
    "import random\n",
    "from tqdm.notebook import tqdm\n",
    "\n",
    "from python.utils import CustomTripletLoss\n",
    "from python.data_loader import GraphDataset\n",
    "from python.model import GGNN\n",
    "\n",
    "seed = 0\n",
    "random.seed(seed)\n",
    "np.random.seed(seed)\n",
    "torch.manual_seed(seed)"
   ]
  },
  {
   "cell_type": "code",
   "execution_count": null,
   "metadata": {},
   "outputs": [],
   "source": [
    "CUDA = True"
   ]
  },
  {
   "cell_type": "markdown",
   "metadata": {},
   "source": [
    "## Preparing the datasets:"
   ]
  },
  {
   "cell_type": "code",
   "execution_count": null,
   "metadata": {},
   "outputs": [],
   "source": [
    "def load_dataset(directory, filename, batch_size, shuffle, targets, \n",
    "                 hidden_size=20, max_nodes=300, edge_types=3, annotation_size=20, target_edge_type=1):\n",
    "    \"\"\"\n",
    "    Load a .json file into memory, create a GraphDataset out of it and return a DataLoader for it\n",
    "    :param directory:       the directory from which to load the file\n",
    "    :param filename:        the name of the file\n",
    "    :param batch_size:      batch size used to initialize the DataLoader\n",
    "    :param shuffle:         if True, shuffle the graphs on each pass\n",
    "    :param targets:         Can be either \"generate\", \"generateOnPass\", or a key to the json dictionary\n",
    "                            from which to load the targets\n",
    "                            \"generate\": generate targets once and keep them this way (validation)\n",
    "                            \"generateOnPass\": generate new targets at each epoch (training)\n",
    "    :param hidden_size:     the size of node embedding in GGNN that will be used on this dataset\n",
    "    :param max_nodes:       maximum number of nodes per graph\n",
    "    :param edge_types:      number of different edge-types. Does not include the edges added to\n",
    "                            the undirected graph\n",
    "    :param annotation_size: the size of annotations (initial embedddings) for each node\n",
    "    :param target_edge_type:the type of edge that is to be predicted\n",
    "    :return:                a dataloader object\n",
    "    \"\"\"\n",
    "    full_path = os.path.join(directory, filename) # full path to the file\n",
    "    print(\"Loading data from %s\" % full_path)\n",
    "    with open(full_path, 'r') as f:\n",
    "        data = json.load(f)\n",
    "    dataset =  GraphDataset(data,\n",
    "                            hidden_size=hidden_size,\n",
    "                            max_nodes=max_nodes,\n",
    "                            edge_types=edge_types,\n",
    "                            annotation_size=annotation_size,\n",
    "                            targets=targets,\n",
    "                            target_edge_type=target_edge_type)\n",
    "    return DataLoader(dataset, shuffle=shuffle, batch_size=batch_size, num_workers=4)"
   ]
  },
  {
   "cell_type": "code",
   "execution_count": null,
   "metadata": {},
   "outputs": [],
   "source": [
    "DIR = '../data/graphs/newMethod/'\n",
    "test_data = loader.load(DIR, 'test.json', batch_size=10, shuffle=False, targets=\"targets_1\")\n",
    "train_data = loader.load(\"train.json\", batch_size=10, shuffle=True, targets=\"generateOnPass\")\n",
    "val_data = loader.load('valid.json', batch_size=10, shuffle=False, targets=\"generate\")"
   ]
  },
  {
   "cell_type": "markdown",
   "metadata": {},
   "source": [
    "## Epoch\\training loops"
   ]
  },
  {
   "cell_type": "code",
   "execution_count": null,
   "metadata": {},
   "outputs": [],
   "source": [
    "def run_epoch(model, data, epoch, is_training):\n",
    "    \"\"\"\n",
    "    Run a given model for one epoch on the given dataset and return the loss and the accuracy\n",
    "    :param data:         a DataLoader object that works on a GraphDataset\n",
    "    :param epoch:        epoch id (for logging purposes)\n",
    "    :param is_training:  whether to train or just evaluate\n",
    "    :return:             mean loss, mean accuracy\n",
    "    \"\"\"\n",
    "    if CUDA:\n",
    "        model.cuda()\n",
    "\n",
    "    if is_training:\n",
    "        model.train()\n",
    "        print(\"Epoch %d. Training\" % epoch)\n",
    "    else:\n",
    "        model.eval()\n",
    "        print(\"Epoch %d. Evaluating\" % epoch)\n",
    "\n",
    "    total_loss = 0\n",
    "    total_acc = 0\n",
    "    step = 0\n",
    "    batches = tqdm(data)\n",
    "\n",
    "    for adj_matrix, features, src, mask in batches:\n",
    "        step += 1\n",
    "\n",
    "        optimizer.zero_grad()\n",
    "        model.zero_grad()\n",
    "\n",
    "        batch_size = adj_matrix.shape[0]\n",
    "        option_size = adj_matrix.shape[1]\n",
    "\n",
    "        # TODO: move these view functions in the GraphDataset\n",
    "        adj_matrix = adj_matrix.view(-1, adj_matrix.shape[2], adj_matrix.shape[3]).float()\n",
    "        src = src.view(-1).long()\n",
    "        features = features.view(-1, features.shape[2], features.shape[3]).float()\n",
    "\n",
    "        if CUDA:  # move to CUDA, if possible\n",
    "            mask = mask.cuda()\n",
    "            features = features.cuda()\n",
    "            adj_matrix = adj_matrix.cuda()\n",
    "            src = src.cuda()\n",
    "\n",
    "        distances = model(features, adj_matrix, src, batch_size, option_size)\n",
    "\n",
    "        loss, acc = criterion(distances, mask)\n",
    "        total_acc += acc.cpu().data.numpy().item()\n",
    "        total_loss += loss.cpu().data.numpy().item()\n",
    "\n",
    "        batches.set_description(\"Acc: s=%f, t=%f. Loss: s=%f, t=%f\" % (acc, accuracy / step, loss, total_loss / step))\n",
    "\n",
    "        if is_training:\n",
    "            loss.backward(retain_graph=True)\n",
    "            tt.nn.utils.clip_grad_norm_(model.parameters(), 1.0)\n",
    "            optimizer.step()\n",
    "\n",
    "    return total_loss/step, accuracy/step"
   ]
  },
  {
   "cell_type": "code",
   "execution_count": null,
   "metadata": {},
   "outputs": [],
   "source": [
    "def train(model, epochs, patience, train_data, val_data, best_model_file):\n",
    "    \"\"\"\n",
    "    Train a given model for a given number of epochs. Use early stopping with given patience.\n",
    "    :param model:     a GGNN model\n",
    "    :param epochs:    maximum number of epochs to run the model for\n",
    "    :param patience:  patience value to use for early stopping\n",
    "    :param train_data:training dataset\n",
    "    :apram val_data:  validation dataset\n",
    "    :param best_model_file: file to save the best model to\n",
    "    \"\"\"\n",
    "\n",
    "    best_val_loss, best_val_loss_epoch = float(\"inf\"), 0\n",
    "    for epoch in range(epochs):\n",
    "        train_loss = run_epoch(model, train_data, epoch, True)\n",
    "        val_loss = run_epoch(model, val_data, epoch, False)\n",
    "\n",
    "        if val_loss < best_val_loss:\n",
    "            tt.save(model.state_dict(), best_model_file)\n",
    "            print(\"Best epoch so far. Saving to '%s')\" % (best_model_file))\n",
    "            best_val_loss = val_loss\n",
    "            best_val_loss_epoch = epoch\n",
    "        elif epoch - best_val_loss_epoch >= patience:  # early stopping\n",
    "            print(\"Early Stopping after %i epochs.\" % patience)\n",
    "            break"
   ]
  },
  {
   "cell_type": "markdown",
   "metadata": {},
   "source": [
    "## Creating and running the model"
   ]
  },
  {
   "cell_type": "code",
   "execution_count": null,
   "metadata": {},
   "outputs": [],
   "source": [
    "model = GGNN(hidden_size = 20,\n",
    "             annotation_size = 20,\n",
    "             edge_types=3,\n",
    "             max_nodes=200,\n",
    "             timesteps=6)\n",
    "criterion = CustomTripletLoss(margin=0.5)\n",
    "optimizer = torch.optim.Adam(model.parameters(), lr=1e-3)"
   ]
  },
  {
   "cell_type": "code",
   "execution_count": null,
   "metadata": {},
   "outputs": [],
   "source": [
    "train(model, epochs=20, patience=3, train_data=train_data, val_data=val_data, best_model_file = \"best.model\")"
   ]
  },
  {
   "cell_type": "code",
   "execution_count": null,
   "metadata": {},
   "outputs": [],
   "source": [
    "model.load_state_dict(\"best.model\")"
   ]
  },
  {
   "cell_type": "code",
   "execution_count": null,
   "metadata": {},
   "outputs": [],
   "source": [
    "loss, acc = run_epoch(model, test_data, 1, False)\n",
    "print(acc)"
   ]
  }
 ],
 "metadata": {
  "kernelspec": {
   "display_name": "Python 3",
   "language": "python",
   "name": "python3"
  },
  "language_info": {
   "codemirror_mode": {
    "name": "ipython",
    "version": 3
   },
   "file_extension": ".py",
   "mimetype": "text/x-python",
   "name": "python",
   "nbconvert_exporter": "python",
   "pygments_lexer": "ipython3",
   "version": "3.6.3"
  }
 },
 "nbformat": 4,
 "nbformat_minor": 2
}

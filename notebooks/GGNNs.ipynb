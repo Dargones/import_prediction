{
 "cells": [
  {
   "cell_type": "code",
   "execution_count": 1,
   "metadata": {},
   "outputs": [],
   "source": [
    "import pandas as pd"
   ]
  },
  {
   "cell_type": "code",
   "execution_count": 2,
   "metadata": {},
   "outputs": [],
   "source": [
    "molecules_train = pd.read_json(\"gated-graph-neural-network-pytorch/molecules_trainFull.json\")\n",
    "molecules_valid = pd.read_json(\"gated-graph-neural-network-pytorch/molecules_validFull.json\")"
   ]
  },
  {
   "cell_type": "code",
   "execution_count": 3,
   "metadata": {},
   "outputs": [
    {
     "data": {
      "text/html": [
       "<div>\n",
       "<style scoped>\n",
       "    .dataframe tbody tr th:only-of-type {\n",
       "        vertical-align: middle;\n",
       "    }\n",
       "\n",
       "    .dataframe tbody tr th {\n",
       "        vertical-align: top;\n",
       "    }\n",
       "\n",
       "    .dataframe thead th {\n",
       "        text-align: right;\n",
       "    }\n",
       "</style>\n",
       "<table border=\"1\" class=\"dataframe\">\n",
       "  <thead>\n",
       "    <tr style=\"text-align: right;\">\n",
       "      <th></th>\n",
       "      <th>graph</th>\n",
       "      <th>node_features</th>\n",
       "      <th>targets</th>\n",
       "    </tr>\n",
       "  </thead>\n",
       "  <tbody>\n",
       "    <tr>\n",
       "      <th>0</th>\n",
       "      <td>[[0, 1, 1], [1, 2, 2], [1, 1, 3], [3, 1, 4], [...</td>\n",
       "      <td>[[0, 1, 0, 0, 0], [0, 1, 0, 0, 0], [0, 0, 0, 1...</td>\n",
       "      <td>[[-0.4143944162]]</td>\n",
       "    </tr>\n",
       "    <tr>\n",
       "      <th>1</th>\n",
       "      <td>[[0, 1, 1], [1, 1, 2], [2, 1, 3], [3, 1, 4], [...</td>\n",
       "      <td>[[0, 1, 0, 0, 0], [0, 1, 0, 0, 0], [0, 1, 0, 0...</td>\n",
       "      <td>[[-0.7727865908]]</td>\n",
       "    </tr>\n",
       "    <tr>\n",
       "      <th>2</th>\n",
       "      <td>[[0, 1, 1], [1, 1, 2], [2, 1, 3], [3, 1, 4], [...</td>\n",
       "      <td>[[0, 1, 0, 0, 0], [0, 1, 0, 0, 0], [0, 0, 1, 0...</td>\n",
       "      <td>[[-0.5899948140000001]]</td>\n",
       "    </tr>\n",
       "    <tr>\n",
       "      <th>3</th>\n",
       "      <td>[[0, 1, 1], [1, 1, 2], [2, 1, 3], [3, 1, 4], [...</td>\n",
       "      <td>[[0, 1, 0, 0, 0], [0, 0, 1, 0, 0], [0, 1, 0, 0...</td>\n",
       "      <td>[[-1.2355191359]]</td>\n",
       "    </tr>\n",
       "    <tr>\n",
       "      <th>4</th>\n",
       "      <td>[[0, 1, 1], [1, 1, 2], [2, 1, 3], [3, 1, 4], [...</td>\n",
       "      <td>[[0, 0, 0, 1, 0], [0, 1, 0, 0, 0], [0, 1, 0, 0...</td>\n",
       "      <td>[[-1.2417952483999999]]</td>\n",
       "    </tr>\n",
       "  </tbody>\n",
       "</table>\n",
       "</div>"
      ],
      "text/plain": [
       "                                               graph  \\\n",
       "0  [[0, 1, 1], [1, 2, 2], [1, 1, 3], [3, 1, 4], [...   \n",
       "1  [[0, 1, 1], [1, 1, 2], [2, 1, 3], [3, 1, 4], [...   \n",
       "2  [[0, 1, 1], [1, 1, 2], [2, 1, 3], [3, 1, 4], [...   \n",
       "3  [[0, 1, 1], [1, 1, 2], [2, 1, 3], [3, 1, 4], [...   \n",
       "4  [[0, 1, 1], [1, 1, 2], [2, 1, 3], [3, 1, 4], [...   \n",
       "\n",
       "                                       node_features                  targets  \n",
       "0  [[0, 1, 0, 0, 0], [0, 1, 0, 0, 0], [0, 0, 0, 1...        [[-0.4143944162]]  \n",
       "1  [[0, 1, 0, 0, 0], [0, 1, 0, 0, 0], [0, 1, 0, 0...        [[-0.7727865908]]  \n",
       "2  [[0, 1, 0, 0, 0], [0, 1, 0, 0, 0], [0, 0, 1, 0...  [[-0.5899948140000001]]  \n",
       "3  [[0, 1, 0, 0, 0], [0, 0, 1, 0, 0], [0, 1, 0, 0...        [[-1.2355191359]]  \n",
       "4  [[0, 0, 0, 1, 0], [0, 1, 0, 0, 0], [0, 1, 0, 0...  [[-1.2417952483999999]]  "
      ]
     },
     "execution_count": 3,
     "metadata": {},
     "output_type": "execute_result"
    }
   ],
   "source": [
    "molecules_train.head()"
   ]
  },
  {
   "cell_type": "code",
   "execution_count": 4,
   "metadata": {},
   "outputs": [
    {
     "data": {
      "text/plain": [
       "(120803, 13082)"
      ]
     },
     "execution_count": 4,
     "metadata": {},
     "output_type": "execute_result"
    }
   ],
   "source": [
    "len(molecules_train), len(molecules_valid)"
   ]
  },
  {
   "cell_type": "code",
   "execution_count": 22,
   "metadata": {},
   "outputs": [],
   "source": [
    "molecules_train=molecules_train[:1000]\n",
    "molecules_valid=molecules_valid[:100]"
   ]
  },
  {
   "cell_type": "code",
   "execution_count": 28,
   "metadata": {},
   "outputs": [],
   "source": [
    "molecules_valid.to_json(\"gated-graph-neural-network-pytorch/molecules_valid.json\", orient=\"records\")"
   ]
  },
  {
   "cell_type": "code",
   "execution_count": 29,
   "metadata": {},
   "outputs": [],
   "source": [
    "molecules_train.to_json(\"gated-graph-neural-network-pytorch/molecules_train.json\", orient=\"records\")"
   ]
  }
 ],
 "metadata": {
  "kernelspec": {
   "display_name": "Python 3",
   "language": "python",
   "name": "python3"
  },
  "language_info": {
   "codemirror_mode": {
    "name": "ipython",
    "version": 3
   },
   "file_extension": ".py",
   "mimetype": "text/x-python",
   "name": "python",
   "nbconvert_exporter": "python",
   "pygments_lexer": "ipython3",
   "version": "3.6.3"
  }
 },
 "nbformat": 4,
 "nbformat_minor": 2
}
